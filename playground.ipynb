{
 "cells": [
  {
   "cell_type": "markdown",
   "metadata": {},
   "source": [
    "### **Playground**"
   ]
  },
  {
   "cell_type": "code",
   "execution_count": 2,
   "metadata": {},
   "outputs": [
    {
     "name": "stdout",
     "output_type": "stream",
     "text": [
      "tensor([[4.0000, 5.0000, 6.0000, 7.0000, 8.0000],\n",
      "        [4.5000, 5.5000, 6.5000, 7.5000, 8.5000]])\n"
     ]
    }
   ],
   "source": [
    "import torch\n",
    "\n",
    "# Simulating logits tensor (batch_size=2, seq_len=4, vocab_size=5)\n",
    "logits = torch.tensor([\n",
    "    [[1.0, 2.0, 3.0, 4.0, 5.0],   # Token 1 in batch 1\n",
    "     [2.0, 3.0, 4.0, 5.0, 6.0],   # Token 2 in batch 1\n",
    "     [3.0, 4.0, 5.0, 6.0, 7.0],   # Token 3 in batch 1\n",
    "     [4.0, 5.0, 6.0, 7.0, 8.0]],  # Token 4 (last token) in batch 1\n",
    "\n",
    "    [[1.5, 2.5, 3.5, 4.5, 5.5],   # Token 1 in batch 2\n",
    "     [2.5, 3.5, 4.5, 5.5, 6.5],   # Token 2 in batch 2\n",
    "     [3.5, 4.5, 5.5, 6.5, 7.5],   # Token 3 in batch 2\n",
    "     [4.5, 5.5, 6.5, 7.5, 8.5]]   # Token 4 (last token) in batch 2\n",
    "])\n",
    "\n",
    "temperature = 1.0  # No scaling effect for simplicity\n",
    "\n",
    "# Select logits of the last token in each batch\n",
    "last_token_logits = logits[:, -1]  # Shape: (batch_size=2, vocab_size=5)\n",
    "print(last_token_logits)"
   ]
  },
  {
   "cell_type": "code",
   "execution_count": 3,
   "metadata": {},
   "outputs": [
    {
     "name": "stdout",
     "output_type": "stream",
     "text": [
      "Logits of last tokens for each batch:\n",
      "tensor([[4.0000, 5.0000, 6.0000, 7.0000, 8.0000],\n",
      "        [4.5000, 5.5000, 6.5000, 7.5000, 8.5000]])\n",
      "\n",
      "Softmax probabilities:\n",
      "tensor([[0.0117, 0.0317, 0.0861, 0.2341, 0.6364],\n",
      "        [0.0117, 0.0317, 0.0861, 0.2341, 0.6364]])\n"
     ]
    }
   ],
   "source": [
    "# Apply softmax\n",
    "probs = torch.softmax(last_token_logits / temperature, dim=-1)\n",
    "\n",
    "# Print results\n",
    "print(\"Logits of last tokens for each batch:\")\n",
    "print(last_token_logits)\n",
    "\n",
    "print(\"\\nSoftmax probabilities:\")\n",
    "print(probs)"
   ]
  },
  {
   "cell_type": "code",
   "execution_count": null,
   "metadata": {},
   "outputs": [],
   "source": []
  }
 ],
 "metadata": {
  "kernelspec": {
   "display_name": "base",
   "language": "python",
   "name": "python3"
  },
  "language_info": {
   "codemirror_mode": {
    "name": "ipython",
    "version": 3
   },
   "file_extension": ".py",
   "mimetype": "text/x-python",
   "name": "python",
   "nbconvert_exporter": "python",
   "pygments_lexer": "ipython3",
   "version": "3.12.3"
  }
 },
 "nbformat": 4,
 "nbformat_minor": 2
}
